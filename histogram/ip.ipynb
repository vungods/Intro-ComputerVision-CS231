{
 "cells": [
  {
   "cell_type": "code",
   "execution_count": 1,
   "metadata": {},
   "outputs": [
    {
     "ename": "error",
     "evalue": "OpenCV(4.6.0) D:\\a\\opencv-python\\opencv-python\\opencv\\modules\\imgproc\\src\\color.cpp:182: error: (-215:Assertion failed) !_src.empty() in function 'cv::cvtColor'\n",
     "output_type": "error",
     "traceback": [
      "\u001b[1;31m---------------------------------------------------------------------------\u001b[0m",
      "\u001b[1;31merror\u001b[0m                                     Traceback (most recent call last)",
      "Cell \u001b[1;32mIn[1], line 5\u001b[0m\n\u001b[0;32m      3\u001b[0m \u001b[39m# image=np.array([[1,2,4,2],[1,3,2,2],[1,1,2,2]])\u001b[39;00m\n\u001b[0;32m      4\u001b[0m image\u001b[39m=\u001b[39mcv2\u001b[39m.\u001b[39mimread(\u001b[39m'\u001b[39m\u001b[39mlowconstract.png\u001b[39m\u001b[39m'\u001b[39m)\n\u001b[1;32m----> 5\u001b[0m image\u001b[39m=\u001b[39mcv2\u001b[39m.\u001b[39;49mcvtColor(image,cv2\u001b[39m.\u001b[39;49mCOLOR_BGR2GRAY)\n\u001b[0;32m      6\u001b[0m unique,count \u001b[39m=\u001b[39m np\u001b[39m.\u001b[39munique(image,return_counts\u001b[39m=\u001b[39m\u001b[39mTrue\u001b[39;00m)\n\u001b[0;32m      7\u001b[0m cdf,hv\u001b[39m=\u001b[39m[],[]\n",
      "\u001b[1;31merror\u001b[0m: OpenCV(4.6.0) D:\\a\\opencv-python\\opencv-python\\opencv\\modules\\imgproc\\src\\color.cpp:182: error: (-215:Assertion failed) !_src.empty() in function 'cv::cvtColor'\n"
     ]
    }
   ],
   "source": [
    "import cv2\n",
    "import numpy as np\n",
    "# image=np.array([[1,2,4,2],[1,3,2,2],[1,1,2,2]])\n",
    "image=cv2.imread('lowconstract.png')\n",
    "image=cv2.cvtColor(image,cv2.COLOR_BGR2GRAY)\n",
    "unique,count = np.unique(image,return_counts=True)\n",
    "cdf,hv=[],[]\n",
    "sum=0\n",
    "for i in range(len(unique)):\n",
    "    sum+=count[i]\n",
    "    cdf.append(sum)\n",
    "for i in range(len(unique)):\n",
    "    sum+=count[i]\n",
    "    cdf.append(sum)\n",
    "    hv.append(round((cdf[i]-cdf[0])/(image.shape[0]*image.shape[1]-cdf[0])*255))\n",
    "for i in range(0,1):\n",
    "    idxs = np.where(image == unique[i])\n",
    "    print(unique[i])\n",
    "    # print(image[82,174])\n",
    "    print(idxs,\"-----\")\n",
    "    image[idxs] = hv[i]\n",
    "cv2.imshow('img',image)\n",
    "cv2.waitKey(0)"
   ]
  },
  {
   "cell_type": "code",
   "execution_count": 9,
   "metadata": {},
   "outputs": [],
   "source": [
    "import numpy as np\n",
    "\n",
    "unique=[1,2,3,4,5,6]\n",
    "hv=[100,200,300,400,500,600]\n",
    "image= np.array([[5,6,2,6,3],[3,2,1,2,3],[5,6,2,2,3],[2,4,5,2,3]])\n",
    "\n",
    "for i in range(len(unique)):\n",
    "    image = np.where(image == unique[i], hv[i], image)"
   ]
  },
  {
   "cell_type": "code",
   "execution_count": 10,
   "metadata": {},
   "outputs": [
    {
     "data": {
      "text/plain": [
       "array([[500, 600, 200, 600, 300],\n",
       "       [300, 200, 100, 200, 300],\n",
       "       [500, 600, 200, 200, 300],\n",
       "       [200, 400, 500, 200, 300]])"
      ]
     },
     "execution_count": 10,
     "metadata": {},
     "output_type": "execute_result"
    }
   ],
   "source": [
    "image"
   ]
  }
 ],
 "metadata": {
  "kernelspec": {
   "display_name": "Python 3",
   "language": "python",
   "name": "python3"
  },
  "language_info": {
   "codemirror_mode": {
    "name": "ipython",
    "version": 3
   },
   "file_extension": ".py",
   "mimetype": "text/x-python",
   "name": "python",
   "nbconvert_exporter": "python",
   "pygments_lexer": "ipython3",
   "version": "3.10.4"
  },
  "orig_nbformat": 4,
  "vscode": {
   "interpreter": {
    "hash": "22544d99362a693055f8a12e62f9d23427d8e205de9d12050f1cc9299bd73282"
   }
  }
 },
 "nbformat": 4,
 "nbformat_minor": 2
}
