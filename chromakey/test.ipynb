{
 "cells": [
  {
   "cell_type": "code",
   "execution_count": 1,
   "metadata": {},
   "outputs": [],
   "source": [
    "import cv2 \n",
    "import numpy as np\n",
    "img=cv2.imread('chrome bg.jpg')\n",
    "background=cv2.imread('backgroud.jpg')\n",
    "background=cv2.resize(background,[img.shape[0],img.shape[1]])\n",
    "min_r= np.min(img[:,:,0])\n",
    "min_g= np.min(img[:,:,1])\n",
    "min_b= np.min(img[:,:,2])\n",
    "max_r= np.max(img[:,:,0])\n",
    "max_g= np.max(img[:,:,1])\n",
    "max_b= np.max(img[:,:,2])\n",
    "img2= cv2.imread('chrome key.jpg')\n",
    "for i in range(img2.shape[0]):\n",
    "    for j in range(img2.shape[1]):\n",
    "        if min_r < img2[i][j][0] and img2[i][j][0] < max_r and min_g < img2[i][j][1] and img2[i][j][1] < max_g and min_b < img2[i][j][2] and img2[i][j][2] < max_b :\n",
    "            img2[i][j][:] = [255,255,255]\n",
    "\n",
    "# print(np.min(img))\n",
    "# print(np.max(img))\n",
    "cv2.imshow('img', img2)\n",
    "cv2.waitKey(0)\n"
   ]
  },
  {
   "cell_type": "code",
   "execution_count": null,
   "metadata": {},
   "outputs": [],
   "source": []
  }
 ],
 "metadata": {
  "kernelspec": {
   "display_name": "Python 3",
   "language": "python",
   "name": "python3"
  },
  "language_info": {
   "codemirror_mode": {
    "name": "ipython",
    "version": 3
   },
   "file_extension": ".py",
   "mimetype": "text/x-python",
   "name": "python",
   "nbconvert_exporter": "python",
   "pygments_lexer": "ipython3",
   "version": "3.10.4"
  },
  "orig_nbformat": 4,
  "vscode": {
   "interpreter": {
    "hash": "22544d99362a693055f8a12e62f9d23427d8e205de9d12050f1cc9299bd73282"
   }
  }
 },
 "nbformat": 4,
 "nbformat_minor": 2
}
